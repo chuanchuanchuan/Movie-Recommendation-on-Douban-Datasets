{
 "cells": [
  {
   "cell_type": "code",
   "execution_count": 1,
   "metadata": {},
   "outputs": [],
   "source": [
    "#coding: utf-8\n",
    "import re\n",
    "import csv\n",
    "file = open('usr_follwing.csv','r')\n",
    "file1 = open('usr_name.csv','r')"
   ]
  },
  {
   "cell_type": "code",
   "execution_count": 2,
   "metadata": {},
   "outputs": [
    {
     "name": "stdout",
     "output_type": "stream",
     "text": [
      "1000\n"
     ]
    }
   ],
   "source": [
    "follwing = []\n",
    "#find user's following\n",
    "for line in file:\n",
    "    usr_follwing = []\n",
    "    for ele in line.split(','):\n",
    "        for x in re.findall(r\".*u'(.+)'\",ele):\n",
    "            usr_follwing.append(x)\n",
    "    follwing.append(usr_follwing)\n",
    "#find user's name\n",
    "usr_name = []\n",
    "for line in file1:\n",
    "    usr_name.append(line.strip())\n",
    "print(len(usr_name))\n",
    "#write csv file to show relationship\n",
    "csvfile = open('follow_rela_1.csv','w',newline='')\n",
    "writer = csv.writer(csvfile)\n",
    "writer.writerow(('关注者','被关注者'))\n",
    "for i in range(len(usr_name)):\n",
    "    for u in follwing[i]:\n",
    "        if u in usr_name:\n",
    "            writer.writerow((usr_name[i],u))\n",
    "csvfile.close()"
   ]
  },
  {
   "cell_type": "code",
   "execution_count": 7,
   "metadata": {},
   "outputs": [
    {
     "name": "stdout",
     "output_type": "stream",
     "text": [
      "[]\n"
     ]
    }
   ],
   "source": []
  },
  {
   "cell_type": "code",
   "execution_count": null,
   "metadata": {},
   "outputs": [],
   "source": []
  }
 ],
 "metadata": {
  "kernelspec": {
   "display_name": "Python 3",
   "language": "python",
   "name": "python3"
  },
  "language_info": {
   "codemirror_mode": {
    "name": "ipython",
    "version": 3
   },
   "file_extension": ".py",
   "mimetype": "text/x-python",
   "name": "python",
   "nbconvert_exporter": "python",
   "pygments_lexer": "ipython3",
   "version": "3.7.1"
  }
 },
 "nbformat": 4,
 "nbformat_minor": 2
}
