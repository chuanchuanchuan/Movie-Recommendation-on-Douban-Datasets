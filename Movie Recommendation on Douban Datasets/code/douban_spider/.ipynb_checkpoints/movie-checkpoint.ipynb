{
 "cells": [
  {
   "cell_type": "code",
   "execution_count": 122,
   "metadata": {},
   "outputs": [],
   "source": [
    "import requests\n",
    "import json\n",
    "from bs4 import BeautifulSoup"
   ]
  },
  {
   "cell_type": "code",
   "execution_count": 169,
   "metadata": {},
   "outputs": [
    {
     "name": "stdout",
     "output_type": "stream",
     "text": [
      "200\n"
     ]
    }
   ],
   "source": [
    "url='https://movie.douban.com/subject/30331149/'\n",
    "res=requests.get(url)\n",
    "print(res.status_code)"
   ]
  },
  {
   "cell_type": "code",
   "execution_count": 171,
   "metadata": {},
   "outputs": [],
   "source": [
    "soup=BeautifulSoup(res.text, 'lxml')"
   ]
  },
  {
   "cell_type": "code",
   "execution_count": 172,
   "metadata": {
    "scrolled": true
   },
   "outputs": [
    {
     "name": "stdout",
     "output_type": "stream",
     "text": [
      "{'@context': 'http://schema.org', 'name': '白蛇：缘起', 'url': '/subject/30331149/', 'image': 'https://img3.doubanio.com/view/photo/s_ratio_poster/public/p2544313786.jpg', 'director': [{'@type': 'Person', 'url': '/celebrity/1401171/', 'name': '黄家康 Amp Wong'}, {'@type': 'Person', 'url': '/celebrity/1401175/', 'name': '赵霁 Ji Zhao'}], 'author': [{'@type': 'Person', 'url': '/celebrity/1401317/', 'name': '大毛 Damao'}], 'actor': [{'@type': 'Person', 'url': '/celebrity/1389748/', 'name': '张喆 Zhe Zhang'}, {'@type': 'Person', 'url': '/celebrity/1341265/', 'name': '杨天翔 Tianxiang Yang'}, {'@type': 'Person', 'url': '/celebrity/1340810/', 'name': '唐小喜 Xiaoxi Tang'}, {'@type': 'Person', 'url': '/celebrity/1404931/', 'name': '刘薇 Wei Liu'}, {'@type': 'Person', 'url': '/celebrity/1384029/', 'name': '张遥函 Yaohan Zhang'}, {'@type': 'Person', 'url': '/celebrity/1379735/', 'name': '郑小璞 Xiaopu Zheng'}, {'@type': 'Person', 'url': '/celebrity/1390807/', 'name': '张博恒 Boheng Zhang'}, {'@type': 'Person', 'url': '/celebrity/1406312/', 'name': '张赫 He Zhang'}, {'@type': 'Person', 'url': '/celebrity/1404930/', 'name': '马程 Cheng Ma'}, {'@type': 'Person', 'url': '/celebrity/1408942/', 'name': '程寅 Yin Cheng'}, {'@type': 'Person', 'url': '/celebrity/1352020/', 'name': '陈霖生 Linsheng Chen'}, {'@type': 'Person', 'url': '/celebrity/1387169/', 'name': '惠龙 Long Hui'}, {'@type': 'Person', 'url': '/celebrity/1340112/', 'name': '林强 Qiang Lin'}, {'@type': 'Person', 'url': '/celebrity/1408943/', 'name': '章斌  Bin Zhang'}], 'datePublished': '2019-01-11', 'genre': ['爱情', '动画', '奇幻'], 'duration': 'PT1H39M', 'description': '幽暗洞中，白蛇（张喆 配音）苦苦修炼却不得其法，小青见此情景，将发髻上的碧玉簪子取下，令白蛇攥在手中。那一刻，五百年前的记忆瞬间苏醒。五百年前，晚唐君主昏聩庸碌，掌握邪术的国师只手遮天，命令天下百姓捕...', '@type': 'Movie', 'aggregateRating': {'@type': 'AggregateRating', 'ratingCount': '310338', 'bestRating': '10', 'worstRating': '2', 'ratingValue': '7.9'}}\n"
     ]
    }
   ],
   "source": [
    "keyinfo=soup.find_all(type=\"application/ld+json\")\n",
    "temp=json.loads(keyinfo[0].text)\n",
    "\n",
    "title=temp['name']\n",
    "rate=float(temp['aggregateRating']['ratingValue'])\n",
    "url=''.join(['https://movie.douban.com', temp['url']])\n",
    "id=temp['url'].split('/')[2]\n",
    "year=temp['datePublished'].split('-')[0]"
   ]
  },
  {
   "cell_type": "code",
   "execution_count": 182,
   "metadata": {
    "scrolled": true
   },
   "outputs": [
    {
     "name": "stdout",
     "output_type": "stream",
     "text": [
      "幽暗洞中，白蛇（张喆 配音）苦苦修炼却不得其法，小青见此情景，将发髻上的碧玉簪子取下，令白蛇攥在手中。那一刻，五百年前的记忆瞬间苏醒。五百年前，晚唐君主昏聩庸碌，掌握邪术的国师只手遮天，命令天下百姓捕蛇修法。为了拯救族群，白蛇冒险行刺，结果却遭遇挫败，还失去了记忆。当她再度醒来，发现自己被一个专门捕蛇的村落所救下，而那个胆小却善良的青年许宣（杨天翔 配音）则吸引了白蛇的注意。与此同时，国师派出爪牙四处追寻白蛇的下落，而蛇族更误解白蛇叛逃人类，接二连三派出杀手。\n",
      "                                    \n",
      "                                　　五百年后的一段姻缘，早在这乱世之间便已缔结……\n"
     ]
    }
   ],
   "source": [
    "temp=soup.find_all(property='v:summary')\n",
    "summary=temp[0].text.strip()\n",
    "print(summary)"
   ]
  },
  {
   "cell_type": "code",
   "execution_count": 173,
   "metadata": {},
   "outputs": [
    {
     "name": "stdout",
     "output_type": "stream",
     "text": [
      "中国大陆\n"
     ]
    }
   ],
   "source": [
    "temp=soup.find_all(id='info')\n",
    "countries=temp[0].find_all(class_='pl')[4].nextSibling.split('/')[0].strip()\n",
    "\n",
    "print(countries)"
   ]
  },
  {
   "cell_type": "code",
   "execution_count": 174,
   "metadata": {},
   "outputs": [
    {
     "name": "stdout",
     "output_type": "stream",
     "text": [
      "['爱情', '动画', '奇幻']\n"
     ]
    }
   ],
   "source": [
    "temp=soup.find_all(property='v:genre')\n",
    "types=[i.text for i in temp]\n",
    "\n",
    "print(types)"
   ]
  },
  {
   "cell_type": "markdown",
   "metadata": {},
   "source": [
    "temp=soup.find_all(property='v:runtime')"
   ]
  },
  {
   "cell_type": "code",
   "execution_count": 177,
   "metadata": {},
   "outputs": [
    {
     "name": "stdout",
     "output_type": "stream",
     "text": [
      "[<a href=\"/celebrity/1401171/\" rel=\"v:directedBy\">黄家康</a>, <a href=\"/celebrity/1401175/\" rel=\"v:directedBy\">赵霁</a>]\n",
      "['黄家康', '赵霁']\n"
     ]
    }
   ],
   "source": [
    "director=soup.find_all(rel='v:directedBy')\n",
    "\n",
    "directors=[]\n",
    "for i in director:\n",
    "    directors.append(i.text)\n",
    "    \n",
    "print(director)\n",
    "print(directors)"
   ]
  },
  {
   "cell_type": "code",
   "execution_count": 178,
   "metadata": {},
   "outputs": [
    {
     "name": "stdout",
     "output_type": "stream",
     "text": [
      "['张喆', '杨天翔', '唐小喜', '刘薇', '张遥函', '郑小璞', '张博恒', '张赫', '马程', '程寅', '陈霖生', '惠龙', '林强', '章斌 ']\n"
     ]
    }
   ],
   "source": [
    "actor=soup.find_all(rel='v:starring')\n",
    "\n",
    "actors=[]\n",
    "for i in actor:\n",
    "    actors.append(i.text)\n",
    "    \n",
    "print(actors)"
   ]
  },
  {
   "cell_type": "code",
   "execution_count": 179,
   "metadata": {},
   "outputs": [
    {
     "name": "stdout",
     "output_type": "stream",
     "text": [
      "99\n"
     ]
    }
   ],
   "source": [
    "temp=soup.find_all(property='v:runtime')\n",
    "runtime=int(temp[0].text.strip('分钟'))\n",
    "\n",
    "print(runtime)"
   ]
  },
  {
   "cell_type": "code",
   "execution_count": null,
   "metadata": {},
   "outputs": [],
   "source": []
  }
 ],
 "metadata": {
  "kernelspec": {
   "display_name": "Python 3",
   "language": "python",
   "name": "python3"
  },
  "language_info": {
   "codemirror_mode": {
    "name": "ipython",
    "version": 3
   },
   "file_extension": ".py",
   "mimetype": "text/x-python",
   "name": "python",
   "nbconvert_exporter": "python",
   "pygments_lexer": "ipython3",
   "version": "3.7.3"
  }
 },
 "nbformat": 4,
 "nbformat_minor": 2
}
